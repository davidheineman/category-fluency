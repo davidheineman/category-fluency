{
 "cells": [
  {
   "cell_type": "code",
   "execution_count": 1,
   "metadata": {},
   "outputs": [],
   "source": [
    "%load_ext autoreload\n",
    "%autoreload 2"
   ]
  },
  {
   "cell_type": "code",
   "execution_count": 2,
   "metadata": {},
   "outputs": [
    {
     "name": "stdout",
     "output_type": "stream",
     "text": [
      "Loading GloVe...\n"
     ]
    },
    {
     "name": "stderr",
     "output_type": "stream",
     "text": [
      "400000it [00:10, 39335.60it/s]"
     ]
    },
    {
     "name": "stdout",
     "output_type": "stream",
     "text": [
      "400000 words loaded!\n"
     ]
    },
    {
     "name": "stderr",
     "output_type": "stream",
     "text": [
      "\n"
     ]
    }
   ],
   "source": [
    "from src.data import load_categories, load_hills, load_glove_model, load_word_frequency, load_nelson\n",
    "\n",
    "hills_csv       = load_hills('../data/hills.csv')\n",
    "reba_categories = load_categories('../data/reba_categories.csv')\n",
    "word_freq       = load_word_frequency('../data/word_frequency.csv')\n",
    "glove_model     = load_glove_model('../data/glove/glove.6B.300d.txt')\n",
    "nelson          = load_nelson(['../data/nelson_a1.csv', '../data/nelson_a2.csv'], reba_categories.keys())"
   ]
  },
  {
   "cell_type": "code",
   "execution_count": 3,
   "metadata": {},
   "outputs": [],
   "source": [
    "from src.data import preprocess_hills\n",
    "from src.switch import adjudicate_categorization\n",
    "\n",
    "hills = preprocess_hills(hills_csv, glove_model, reba_categories)\n",
    "reba_adj = adjudicate_categorization(reba_categories, hills)"
   ]
  },
  {
   "cell_type": "code",
   "execution_count": 4,
   "metadata": {},
   "outputs": [],
   "source": [
    "from src.tree import create_animal_graph, create_norm_graph\n",
    "\n",
    "EPSILON = 0.4\n",
    "G = create_animal_graph(reba_categories.keys(), glove_model, word_freq, EPSILON)\n",
    "RW = create_norm_graph(reba_categories.keys(), nelson)"
   ]
  },
  {
   "cell_type": "markdown",
   "metadata": {},
   "source": [
    "## Comparing Sequence Generation Methods"
   ]
  },
  {
   "cell_type": "code",
   "execution_count": 5,
   "metadata": {},
   "outputs": [
    {
     "name": "stderr",
     "output_type": "stream",
     "text": [
      "/Users/dhei/miniconda3/envs/typical/lib/python3.11/site-packages/tqdm/auto.py:21: TqdmWarning: IProgress not found. Please update jupyter and ipywidgets. See https://ipywidgets.readthedocs.io/en/stable/user_install.html\n",
      "  from .autonotebook import tqdm as notebook_tqdm\n"
     ]
    },
    {
     "data": {
      "text/plain": [
       "{'exemplar_bleu': 0.211679,\n",
       " 'intra_category_bleu': 0.875443,\n",
       " 'inter_category_bleu': {'Reptiles/Amphibians': 0,\n",
       "  'Beasts of Burden': 0,\n",
       "  'Arctic/Far North Animals': 0,\n",
       "  'Fish': 0.608492,\n",
       "  'North American': 0.139628,\n",
       "  'Insects': 0.408248,\n",
       "  'Canines': 0,\n",
       "  'Primates': 0,\n",
       "  'Australian Animals': 0,\n",
       "  'Non-Jungle Animals': 0.074641,\n",
       "  'Farm Animals': 0.140151,\n",
       "  'Felines': 0.014286,\n",
       "  'Birds': 0,\n",
       "  'Rodent Like': 0,\n",
       "  'Jungle Animals': 0,\n",
       "  'Pets': 0.326078},\n",
       " 'average_run_length': 1.56,\n",
       " 'percent_switches': 0.615385}"
      ]
     },
     "execution_count": 5,
     "metadata": {},
     "output_type": "execute_result"
    }
   ],
   "source": [
    "from src.evaluate import evaluate_results\n",
    "from src.search import graph_traversal, cue_switch_step, random_walk_step, sub_category_switch_step\n",
    "from src.switch import get_category_transitions\n",
    "\n",
    "transition_probs = get_category_transitions(hills)\n",
    "\n",
    "def traversal_func(graph, sequence, current_node):\n",
    "    # return sub_category_switch_step(graph, current_node, reba_categories, transition_probs)\n",
    "    return cue_switch_step(graph, current_node, 1, 5)\n",
    "    # return random_walk_step(graph, current_node, 0.01)\n",
    "\n",
    "pred = []\n",
    "for _ in range(100):\n",
    "    pred += [graph_traversal(G, traversal_func, traversal_method='max')]\n",
    "gold = [r['response'] for r in hills]\n",
    "\n",
    "evaluate_results(pred, gold, reba_categories)"
   ]
  },
  {
   "cell_type": "code",
   "execution_count": 6,
   "metadata": {},
   "outputs": [
    {
     "data": {
      "text/plain": [
       "{'exemplar_bleu': 0.067731,\n",
       " 'intra_category_bleu': 0.821119,\n",
       " 'inter_category_bleu': {'Reptiles/Amphibians': 0.013865,\n",
       "  'Beasts of Burden': 0,\n",
       "  'Arctic/Far North Animals': 0,\n",
       "  'Fish': 0.04412,\n",
       "  'North American': 0.032171,\n",
       "  'Insects': 0.015947,\n",
       "  'Canines': 0,\n",
       "  'Primates': 0.027728,\n",
       "  'Australian Animals': 0,\n",
       "  'Non-Jungle Animals': 0.091425,\n",
       "  'Farm Animals': 0.06414,\n",
       "  'Felines': 0.072705,\n",
       "  'Birds': 0.008561,\n",
       "  'Rodent Like': 0.041017,\n",
       "  'Jungle Animals': 0,\n",
       "  'Pets': 0.044277},\n",
       " 'average_run_length': 2.241399,\n",
       " 'percent_switches': 0.433923}"
      ]
     },
     "execution_count": 6,
     "metadata": {},
     "output_type": "execute_result"
    }
   ],
   "source": [
    "from src.search import random_walk\n",
    "import random\n",
    "\n",
    "pred = []\n",
    "for _ in range(100):\n",
    "    pred += [random_walk(RW, start_node=random.choice(list(RW.nodes())), max_length=40, max_iter=4000)]\n",
    "\n",
    "evaluate_results(pred, gold, reba_categories)"
   ]
  },
  {
   "cell_type": "code",
   "execution_count": 7,
   "metadata": {},
   "outputs": [
    {
     "data": {
      "text/plain": [
       "{'exemplar_bleu': 0.017591,\n",
       " 'intra_category_bleu': 0.794282,\n",
       " 'inter_category_bleu': {'Reptiles/Amphibians': 0.012658,\n",
       "  'Beasts of Burden': 0,\n",
       "  'Arctic/Far North Animals': 0,\n",
       "  'Fish': 0,\n",
       "  'North American': 0.014703,\n",
       "  'Insects': 0,\n",
       "  'Canines': 0,\n",
       "  'Primates': 0,\n",
       "  'Australian Animals': 0,\n",
       "  'Non-Jungle Animals': 0.019473,\n",
       "  'Farm Animals': 0.074967,\n",
       "  'Felines': 0.024936,\n",
       "  'Birds': 0.003756,\n",
       "  'Rodent Like': 0.003904,\n",
       "  'Jungle Animals': 0.008367,\n",
       "  'Pets': 0.042982},\n",
       " 'average_run_length': 1.205488,\n",
       " 'percent_switches': 0.805225}"
      ]
     },
     "execution_count": 7,
     "metadata": {},
     "output_type": "execute_result"
    }
   ],
   "source": [
    "from src.evaluate import evaluate_results\n",
    "from src.search import cue_switch_step, random_walk_step, sub_category_switch_step\n",
    "from src.search import graph_traversal, MC3, beam_search\n",
    "from src.switch import get_category_transitions\n",
    "\n",
    "transition_probs = get_category_transitions(hills)\n",
    "\n",
    "def traversal_func(graph, sequence, current_node):\n",
    "    # return sub_category_switch_step(graph, current_node, reba_categories, transition_probs)\n",
    "    return cue_switch_step(graph, current_node, 1, 5)\n",
    "    # return random_walk_step(graph, current_node, 0.01)\n",
    "\n",
    "pred = []\n",
    "for _ in range(100):\n",
    "    # pred += [graph_traversal(G, traversal_func, traversal_method='max')]\n",
    "    pred += [MC3(G, traversal_func, num_chains=10)[0]]\n",
    "\n",
    "# pred = beam_search(G, traversal_func, beam_width=10)[0]\n",
    "# pred = MC3(G, traversal_func, num_chains=100)\n",
    "gold = [r['response'] for r in hills]\n",
    "\n",
    "evaluate_results(pred, gold, reba_categories)"
   ]
  },
  {
   "cell_type": "code",
   "execution_count": 8,
   "metadata": {},
   "outputs": [
    {
     "name": "stdout",
     "output_type": "stream",
     "text": [
      "0.0001 0.163038\n",
      "0.0100 0.100485\n",
      "0.5000 0.033411\n",
      "1.0000 0.05055\n",
      "1.3000 0.059167\n",
      "1.9000 0.053589\n"
     ]
    }
   ],
   "source": [
    "import numpy as np\n",
    "\n",
    "N_ITER = 50\n",
    "\n",
    "def cue_func(graph, sequence, current_node):\n",
    "    return cue_switch_step(graph, current_node, 0, 1)\n",
    "\n",
    "# for t in np.arange(0.0001, 0.1, 0.01):\n",
    "for t in [1e-4, 1e-2, 0.5, 1, 1.3, 1.9]:\n",
    "    pred = [graph_traversal(G, cue_func, traversal_method='sample', temp=t) for _ in range(N_ITER)]\n",
    "    print(f'{t:.4f}', evaluate_results(pred, gold, reba_categories)['exemplar_bleu'])"
   ]
  },
  {
   "cell_type": "code",
   "execution_count": 15,
   "metadata": {},
   "outputs": [
    {
     "name": "stdout",
     "output_type": "stream",
     "text": [
      "\\begin{tabular}{p{3cm}C{1.5cm}C{1.5cm}C{1.5cm}}\n",
      "\\toprule\n",
      "\\textbf{Method} & \\textbf{Abbott} & \\textbf{Hills} & \\textbf{Subcategory Cue} \\\\\n",
      "\\midrule\n",
      "\n",
      "Random Walk & 0.08 & 0.08 & 0.07 \\\\\n",
      "\n",
      "\\bottomrule\n",
      "\\end{tabular}\n",
      "\n"
     ]
    }
   ],
   "source": [
    "from src.evaluate import evaluate_results\n",
    "from src.search import cue_switch_step, random_walk_step, sub_category_switch_step\n",
    "from src.search import graph_traversal, MC3, beam_search\n",
    "from src.switch import get_category_transitions\n",
    "from src.util import render_table\n",
    "\n",
    "transition_probs = get_category_transitions(hills)\n",
    "\n",
    "results = {\n",
    "    'Greedy': {}, 'Greedy': {}, 'Beam Search': {}, 'Sampling ($\\\\tau=0.3$)': {}, \n",
    "    'Sampling ($\\\\tau=1$)': {}, 'Sampling ($\\\\tau=1.5$)': {}, 'Random Walk': {}, \n",
    "    'M-H': {}, 'MC$^3$': {}\n",
    "}\n",
    "N_ITER = 100\n",
    "\n",
    "gold = [r['response'] for r in hills]\n",
    "\n",
    "def cue_func(graph, sequence, current_node):\n",
    "    return cue_switch_step(graph, current_node, 1, 5)\n",
    "\n",
    "def sub_category_func(graph, sequence, current_node):\n",
    "    return sub_category_switch_step(graph, current_node, reba_categories, transition_probs)\n",
    "\n",
    "def random_func(graph, sequence, current_node):\n",
    "    return random_walk_step(graph, current_node, 0.01)\n",
    "\n",
    "func_map = {\n",
    "    'Abbott': random_func,\n",
    "    'Hills': cue_func,\n",
    "    'Subcategory Cue': sub_category_func\n",
    "}\n",
    "\n",
    "examples = []\n",
    "\n",
    "for f in func_map.keys():\n",
    "    # pred = [graph_traversal(G, func_map[f], traversal_method='max') for _ in range(N_ITER)]\n",
    "    # examples += [pred[0]]\n",
    "    # results['Greedy'][f] = evaluate_results(pred, gold, reba_categories)['exemplar_bleu']\n",
    "\n",
    "    # pred = beam_search(G, func_map[f], beam_width=N_ITER)[0]\n",
    "    # examples += [pred[0]]\n",
    "    # results['Beam Search'][f] = evaluate_results(pred, gold, reba_categories)['exemplar_bleu']\n",
    "\n",
    "    # pred = [graph_traversal(G, func_map[f], traversal_method='sample', temp=1e-2) for _ in range(N_ITER)]\n",
    "    # examples += [pred[0]]\n",
    "    # results['Sampling ($\\\\tau=0.3$)'][f] = evaluate_results(pred, gold, reba_categories)['exemplar_bleu']\n",
    "\n",
    "    # pred = [graph_traversal(G, func_map[f], traversal_method='sample', temp=0.3) for _ in range(N_ITER)]\n",
    "    # examples += [pred[0]]\n",
    "    # results['Sampling ($\\\\tau=1$)'][f] = evaluate_results(pred, gold, reba_categories)['exemplar_bleu']\n",
    "\n",
    "    # pred = [graph_traversal(G, func_map[f], traversal_method='sample', temp=1.7) for _ in range(N_ITER)]\n",
    "    # examples += [pred[0]]\n",
    "    # results['Sampling ($\\\\tau=1.5$)'][f] = evaluate_results(pred, gold, reba_categories)['exemplar_bleu']\n",
    "\n",
    "    pred = [random_walk(RW, start_node=random.choice(list(RW.nodes())), max_length=40, max_iter=4000) for _ in range(N_ITER)]\n",
    "    examples += [pred[0]]\n",
    "    results['Random Walk'][f] = evaluate_results(pred, gold, reba_categories)['exemplar_bleu']\n",
    "\n",
    "    # pred = [MC3(G, func_map[f], num_chains=1)[0] for _ in range(N_ITER)]\n",
    "    # examples += [pred[0]]\n",
    "    # results['M-H'][f] = evaluate_results(pred, gold, reba_categories)['exemplar_bleu']\n",
    "\n",
    "    # pred = [MC3(G, func_map[f], num_chains=2)[0] for _ in range(N_ITER)]\n",
    "    # examples += [pred[0]]\n",
    "    # results['MC$^3$'][f] = evaluate_results(pred, gold, reba_categories)['exemplar_bleu']\n",
    "\n",
    "print(render_table({k: v for k, v in results.items() if len(v) != 0}))"
   ]
  },
  {
   "cell_type": "code",
   "execution_count": null,
   "metadata": {},
   "outputs": [
    {
     "name": "stdout",
     "output_type": "stream",
     "text": [
      "Greedy & \\pets{dog} \\pets{cat} \\primates{monkey} \\nonjungle{lion} \\nonjungle{tiger} \\nonjungle{elephant} \\farm{bear} \\north{deer} \\north{squirrel} \\pets{mouse} \\rodent{rat} \\pets{snake} \\pets{fish} \\pets{bird} \\farm{cow} \\farm{horse} \\farm{sheep} \\farm{pig} \\north{rabbit} \\australian{kangaroo} \\australian{wallaby} \\birds{kiwi} \\nonjungle{giraffe} \\nonjungle{zebra} \\nonjungle{leopard} \\nonjungle{cheetah} \\nonjungle{gazelle} \\nonjungle{antelope} \\north{elk} \\north{moose} \\north{raccoon} \\north{skunk} \\farm{whale} \\farm{dolphin} \\fish{shark} \\fish{turtle} \\jungle{alligator} \\reptiles{lizard} \\reptiles{frog} \\\\\n",
      "Sampling ($\\tau=0.3$) & \\farm{ox} \\farm{donkey} \\farm{mule} \\farm{pony} \\farm{horse} \\farm{bull} \\nonjungle{lion} \\nonjungle{elephant} \\nonjungle{tiger} \\fish{shark} \\fish{fish} \\fish{whale} \\fish{turtle} \\farm{snake} \\pets{lizards} \\pets{mammal} \\reptiles{dinosaur} \\reptiles{lizard} \\reptiles{gecko} \\nonjungle{mongoose} \\insects{centipede} \\pets{bulldog} \\pets{terrier} \\pets{dog} \\pets{rabbit} \\north{deer} \\fish{trout} \\fish{tilapia} \\fish{bluegill} \\fish{catfish} \\fish{shrimp} \\fish{crawfish} \\fish{clam} \\fish{crab} \\fish{lobster} \\fish{scallop} \\fish{urchin} \\fish{blowfish} \\fish{orca} \\\\\n",
      "Sampling ($\\tau=1$) & \\farm{bear} \\nonjungle{elephant} \\felines{bear} \\felines{lion} \\rodent{rat} \\north{coyote} \\fish{fish} \\nonjungle{rhinoceros} \\felines{cat} \\pets{cat} \\felines{bear} \\rodent{mouse} \\pets{cat} \\farm{sheep} \\felines{cat} \\farm{goat} \\fish{crab} \\fish{crab} \\farm{snake} \\farm{duck} \\farm{turtle} \\rodent{rat} \\birds{elephant} \\nonjungle{elephant} \\nonjungle{ostrich} \\birds{chicken} \\farm{pig} \\farm{pig} \\farm{pig} \\north{monkey} \\north{squirrel} \\north{bear} \\north{coyote} \\pets{lizards} \\rodent{raccoon} \\rodent{raccoon} \\pets{snake} \\jungle{leopard} \\fish{fish} \\\\\n",
      "Sampling ($\\tau=1.5$) & \\north{tiger} \\felines{lion} \\pets{dog} \\pets{cat} \\fish{monkey} \\north{squirrel} \\pets{mouse} \\pets{rat} \\farm{pig} \\farm{cow} \\nonjungle{elephant} \\nonjungle{giraffe} \\nonjungle{zebra} \\nonjungle{leopard} \\north{deer} \\north{bear} \\north{wolf} \\north{grizzly} \\north{moose} \\north{raccoon} \\north{rabbit} \\north{goat} \\beasts{horse} \\farm{sheep} \\beasts{camel} \\farm{whale} \\fish{fish} \\birds{bird} \\birds{chicken} \\birds{duck} \\birds{goose} \\north{elk} \\north{eagle} \\birds{owl} \\pets{snake} \\fish{shark} \\fish{dolphin} \\fish{turtle} \\reptiles{lizard} \\\\\n",
      "Beam Search & \\nonjungle{tiger} \\felines{lion} \\pets{dog} \\pets{dog} \\pets{dog} \\felines{lion} \\nonjungle{lion} \\pets{dog} \\canines{dog} \\pets{dog} \\pets{cat} \\pets{dog} \\pets{cat} \\pets{dog} \\pets{dog} \\pets{dog} \\pets{cat} \\pets{cat} \\pets{dog} \\pets{cat} \\pets{dog} \\pets{dog} \\pets{dog} \\nonjungle{lion} \\felines{bear} \\nonjungle{elephant} \\felines{bear} \\canines{dog} \\pets{dog} \\fish{monkey} \\felines{cat} \\felines{cat} \\pets{dog} \\primates{monkey} \\canines{dog} \\pets{dog} \\pets{dog} \\canines{dog} \\pets{cat} \\\\\n",
      "RwM & \\insects{bee} \\fish{orca} \\fish{whale} \\fish{porpoise} \\fish{dolphin} \\fish{shark} \\fish{fish} \\pets{bird} \\birds{parrot} \\birds{pigeon} \\birds{quail} \\birds{duck} \\farm{pig} \\farm{cow} \\farm{horse} \\farm{ox} \\north{boar} \\north{rabbit} \\north{coyote} \\north{wolf} \\pets{dog} \\pets{cat} \\primates{monkey} \\felines{lion} \\nonjungle{tiger} \\nonjungle{elephant} \\nonjungle{giraffe} \\nonjungle{leopard} \\nonjungle{hyena} \\nonjungle{wildebeest} \\nonjungle{antelope} \\nonjungle{zebra} \\birds{oriole} \\insects{tick} \\insects{mosquito} \\insects{insect} \\insects{spider} \\jungle{snake} \\birds{owl} \\\\\n",
      "MC$^3$ & \\farm{bear} \\felines{lion} \\felines{tiger} \\australian{armadillo} \\reptiles{lizard} \\reptiles{snake} \\pets{fish} \\pets{bird} \\farm{duck} \\farm{pig} \\farm{cow} \\farm{horse} \\pets{dog} \\pets{cat} \\north{raccoon} \\rodent{squirrel} \\north{monkey} \\north{rabbit} \\arctic{walrus} \\fish{whale} \\fish{porpoise} \\fish{dolphin} \\fish{shark} \\fish{turtle} \\pets{frog} \\pets{mouse} \\australian{kangaroo} \\pets{rat} \\australian{koala} \\primates{orangutan} \\primates{gorilla} \\nonjungle{rhino} \\nonjungle{elephant} \\nonjungle{hippopotamus} \\nonjungle{giraffe} \\nonjungle{antelope} \\nonjungle{zebra} \\nonjungle{leopard} \\nonjungle{hyena} \\nonjungle{cheetah} \\nonjungle{gazelle} \\\\\n",
      "\\midrule\n",
      "Abbott & \\pets{dog} \\pets{cat} \\north{monkey} \\nonjungle{lion} \\nonjungle{tiger} \\nonjungle{elephant} \\north{bear} \\north{deer} \\north{squirrel} \\rodent{mouse} \\rodent{rat} \\pets{snake} \\pets{fish} \\pets{bird} \\farm{cow} \\farm{horse} \\farm{sheep} \\farm{pig} \\rodent{rabbit} \\australian{kangaroo} \\australian{wallaby} \\birds{kiwi} \\nonjungle{giraffe} \\nonjungle{zebra} \\nonjungle{leopard} \\nonjungle{cheetah} \\nonjungle{gazelle} \\nonjungle{antelope} \\north{elk} \\north{moose} \\north{raccoon} \\north{skunk} \\farm{whale} \\fish{dolphin} \\fish{shark} \\fish{turtle} \\reptiles{alligator} \\reptiles{lizard} \\reptiles{frog} \\\\\n",
      "Hills & \\australian{wallaby} \\australian{kangaroo} \\pets{rat} \\rodent{squirrel} \\rodent{raccoon} \\north{mink} \\rodent{otter} \\north{elk} \\north{beaver} \\north{moose} \\north{deer} \\felines{leopard} \\nonjungle{gazelle} \\nonjungle{giraffe} \\nonjungle{elephant} \\farm{whale} \\fish{fish} \\fish{crab} \\fish{crawfish} \\fish{shrimp} \\fish{tuna} \\fish{salmon} \\fish{swordfish} \\fish{scallop} \\fish{oyster} \\fish{clam} \\fish{lobster} \\farm{chicken} \\farm{lamb} \\farm{goat} \\farm{pig} \\farm{cattle} \\farm{cow} \\birds{bird} \\birds{duck} \\birds{quail} \\pets{turtle} \\pets{frog} \\birds{owl} \\\\\n",
      "Subcategory Cue & \\birds{seagull} \\farm{cow} \\farm{sheep} \\pets{dog} \\north{monkey} \\jungle{ape} \\jungle{chimpanzee} \\birds{elephant} \\arctic{walrus} \\arctic{narwhal} \\fish{beluga} \\fish{whale} \\fish{salmon} \\fish{crab} \\fish{oyster} \\fish{clam} \\fish{lobster} \\birds{chicken} \\pets{fish} \\fish{shark} \\jungle{tiger} \\nonjungle{leopard} \\felines{cheetah} \\nonjungle{giraffe} \\nonjungle{ostrich} \\jungle{crocodile} \\reptiles{turtle} \\primates{mammal} \\pets{bird} \\pets{parrot} \\birds{pigeon} \\birds{pheasant} \\birds{duck} \\farm{pig} \\farm{goat} \\north{deer} \\north{bear} \\north{elk} \\farm{hog} \\\\\n"
     ]
    }
   ],
   "source": [
    "from src.data import REBA_CATEGORY_ABBR\n",
    "from src.switch import min_category_switches\n",
    "\n",
    "for e_idx, e in enumerate(examples[::3]):\n",
    "    e = e[:50]\n",
    "    cat = [REBA_CATEGORY_ABBR[c] for c in min_category_switches([reba_categories[p] for p in e])]\n",
    "    run = ' '.join([f'\\{cat[i]}{{{exemplar}}}' for i, exemplar in enumerate(e)]) \n",
    "    print(f'{list(results.keys())[e_idx]} & {run} \\\\\\\\')\n",
    "\n",
    "print(f'\\\\midrule')\n",
    "\n",
    "for e_idx, e in enumerate(examples[:3]):\n",
    "    e = e[:50]\n",
    "    cat = [REBA_CATEGORY_ABBR[c] for c in min_category_switches([reba_categories[p] for p in e])]\n",
    "    run = ' '.join([f'\\{cat[i]}{{{exemplar}}}' for i, exemplar in enumerate(e)]) \n",
    "    print(f'{list(func_map.keys())[e_idx]} & {run} \\\\\\\\')"
   ]
  },
  {
   "cell_type": "code",
   "execution_count": null,
   "metadata": {},
   "outputs": [
    {
     "name": "stderr",
     "output_type": "stream",
     "text": [
      "100%|██████████| 141/141 [00:04<00:00, 30.45it/s]"
     ]
    },
    {
     "name": "stdout",
     "output_type": "stream",
     "text": [
      "0.22260202836879434\n",
      "0.9001463546099291\n"
     ]
    },
    {
     "name": "stderr",
     "output_type": "stream",
     "text": [
      "\n"
     ]
    }
   ],
   "source": [
    "from tqdm import tqdm\n",
    "import statistics\n",
    "\n",
    "# Evaluate Human Baseline\n",
    "human_results = []\n",
    "for i in tqdm(range(len(gold))):\n",
    "    human_results += [evaluate_results([gold[i]], gold[:i] + gold[i+1:], reba_categories)]\n",
    "\n",
    "print(statistics.mean([r['exemplar_bleu'] for r in human_results]))\n",
    "print(statistics.mean([r['intra_category_bleu'] for r in human_results]))"
   ]
  }
 ],
 "metadata": {
  "kernelspec": {
   "display_name": "typical",
   "language": "python",
   "name": "python3"
  },
  "language_info": {
   "codemirror_mode": {
    "name": "ipython",
    "version": 3
   },
   "file_extension": ".py",
   "mimetype": "text/x-python",
   "name": "python",
   "nbconvert_exporter": "python",
   "pygments_lexer": "ipython3",
   "version": "3.11.5"
  }
 },
 "nbformat": 4,
 "nbformat_minor": 2
}
